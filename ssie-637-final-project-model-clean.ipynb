{
 "cells": [
  {
   "cell_type": "code",
   "execution_count": null,
   "id": "8072271f",
   "metadata": {},
   "outputs": [],
   "source": [
    "import pandas as pd\n",
    "import numpy as np\n",
    "import matplotlib.pyplot as plt\n",
    "from datetime import datetime, timedelta\n",
    "import requests as r\n",
    "from math import sin, cos, sqrt, atan2, radians\n",
    "from sklearn.preprocessing import OneHotEncoder, MinMaxScaler, StandardScaler\n",
    "from sklearn.compose import make_column_transformer\n",
    "from sklearn.model_selection import train_test_split, cross_val_score, KFold\n",
    "from sklearn.linear_model import LinearRegression, Ridge, ElasticNet\n",
    "from sklearn.gaussian_process import GaussianProcessRegressor\n",
    "from sklearn.gaussian_process.kernels import DotProduct, WhiteKernel\n",
    "from sklearn import linear_model\n",
    "from sklearn.metrics import mean_absolute_error, mean_squared_error, r2_score\n",
    "from sklearn.feature_selection import SequentialFeatureSelector, RFECV\n",
    "from scipy import stats\n",
    "\n",
    "random_state=42\n",
    "num_samples = 75000\n",
    "itr = 50"
   ]
  },
  {
   "cell_type": "code",
   "execution_count": null,
   "id": "ff4cd882",
   "metadata": {},
   "outputs": [],
   "source": [
    "url = 'https://envera-consulting-public-assets.s3.us-west-1.amazonaws.com/ssie-637-final-dataset.csv'\n",
    "df = pd.read_csv(url)"
   ]
  },
  {
   "cell_type": "code",
   "execution_count": null,
   "id": "d4f9bbb5",
   "metadata": {},
   "outputs": [],
   "source": [
    "df.shape"
   ]
  },
  {
   "cell_type": "code",
   "execution_count": null,
   "id": "27892f7d",
   "metadata": {},
   "outputs": [],
   "source": [
    "sub_list = ['hour', 'Call Priority', 'delta_1_min',\n",
    "            'delta_2_min', 'delta_3_min',\n",
    "            'delta_4_min', 'delta_5_min',\n",
    "            'delta_6_min', 'delta_7_min',\n",
    "            'distance_km']\n",
    "\n",
    "sub_list2 = ['delta_1_min',\n",
    "            'delta_2_min', 'delta_3_min',\n",
    "            'delta_4_min', 'delta_5_min',\n",
    "            'delta_6_min', 'delta_7_min',\n",
    "            'distance_km']"
   ]
  },
  {
   "cell_type": "code",
   "execution_count": null,
   "id": "e78fbb74",
   "metadata": {},
   "outputs": [],
   "source": [
    "new_df2 = df[sub_list]"
   ]
  },
  {
   "cell_type": "code",
   "execution_count": null,
   "id": "eca567b5",
   "metadata": {},
   "outputs": [],
   "source": [
    "new_df2.head(2)"
   ]
  },
  {
   "cell_type": "code",
   "execution_count": null,
   "id": "e89724f7",
   "metadata": {},
   "outputs": [],
   "source": [
    "Q1 = new_df2[sub_list2].quantile(0.25) \n",
    "Q3 = new_df2[sub_list2].quantile(0.75)\n",
    "IQR = Q3 - Q1\n",
    "condition = ~((new_df2[sub_list2] < (Q1 - 1.5 * IQR)) | (new_df2[sub_list2] > (Q3 + 1.5 * IQR))).any(axis=1)\n",
    "\n",
    "new_df2 = new_df2[condition]"
   ]
  },
  {
   "cell_type": "code",
   "execution_count": null,
   "id": "52b2ef91",
   "metadata": {},
   "outputs": [],
   "source": [
    "new_df2.shape"
   ]
  },
  {
   "cell_type": "code",
   "execution_count": null,
   "id": "bcad22d4",
   "metadata": {},
   "outputs": [],
   "source": [
    "new_df2.describe()"
   ]
  },
  {
   "cell_type": "code",
   "execution_count": null,
   "id": "74439a73",
   "metadata": {},
   "outputs": [],
   "source": [
    "delta_1_min_list = new_df2['delta_1_min'].values.tolist()\n",
    "delta_2_min_list = new_df2['delta_2_min'].values.tolist()\n",
    "delta_3_min_list = new_df2['delta_3_min'].values.tolist()\n",
    "delta_4_min_list = new_df2['delta_4_min'].values.tolist()\n",
    "delta_5_min_list = new_df2['delta_5_min'].values.tolist()\n",
    "delta_6_min_list = new_df2['delta_6_min'].values.tolist()\n",
    "delta_7_min_list = new_df2['delta_7_min'].values.tolist()\n",
    "hour_list = new_df2['hour'].values.tolist()\n",
    "priority_list = new_df2['Call Priority'].values.tolist()\n",
    "distance_list = new_df2['distance_km'].values.tolist()\n",
    "\n",
    "\n",
    "plt.figure(figsize=(10, 10))\n",
    "plt.subplots_adjust(left=0.1,\n",
    "                    bottom=0.1,\n",
    "                    right=0.9,\n",
    "                    top=0.9,\n",
    "                    wspace=0.4,\n",
    "                    hspace=0.2)\n",
    "num_rows = 2\n",
    "num_col = 4\n",
    "rotation = 0\n",
    "fontsize = 13\n",
    "\n",
    "plt.subplot(num_rows,num_col,1)\n",
    "plt.boxplot([delta_1_min_list])\n",
    "plt.xticks([1], ['delta_1_min'], fontsize=fontsize, rotation=rotation)\n",
    "plt.yticks(fontsize=13)\n",
    "\n",
    "\n",
    "plt.subplot(num_rows,num_col,2)\n",
    "plt.boxplot([delta_2_min_list])\n",
    "plt.xticks([1], ['delta_2_min'], fontsize=fontsize, rotation=rotation)\n",
    "plt.yticks(fontsize=13)\n",
    "\n",
    "plt.subplot(num_rows,num_col,3)\n",
    "plt.boxplot([delta_3_min_list])\n",
    "plt.xticks([1], ['delta_3_min'], fontsize=fontsize, rotation=rotation)\n",
    "plt.yticks(fontsize=13)\n",
    "\n",
    "plt.subplot(num_rows,num_col,4)\n",
    "plt.boxplot([delta_4_min_list])\n",
    "plt.xticks([1], ['delta4_min'], fontsize=fontsize, rotation=rotation)\n",
    "plt.yticks(fontsize=13)\n",
    "\n",
    "plt.subplot(num_rows,num_col,5)\n",
    "plt.boxplot([delta_5_min_list])\n",
    "plt.xticks([1], ['delta_5_min'], fontsize=fontsize, rotation=rotation)\n",
    "plt.ylim(-0.9, 140, 20)\n",
    "plt.yticks(fontsize=13)\n",
    "\n",
    "plt.subplot(num_rows,num_col,6)\n",
    "plt.boxplot([delta_6_min_list])\n",
    "plt.xticks([1], ['delta_6_min'], fontsize=fontsize, rotation=rotation)\n",
    "plt.yticks(fontsize=13)\n",
    "\n",
    "plt.subplot(num_rows,num_col,7)\n",
    "plt.boxplot([delta_7_min_list])\n",
    "plt.xticks([1], ['delta_7_min'], fontsize=fontsize, rotation=rotation)\n",
    "plt.ylim(-0.1, 5, 1)\n",
    "plt.yticks(fontsize=13)\n",
    "\n",
    "\n",
    "plt.subplot(num_rows,num_col,8)\n",
    "plt.boxplot([distance_list])\n",
    "plt.xticks([1], ['distance_list'], fontsize=fontsize, rotation=rotation)\n",
    "plt.yticks(fontsize=13)\n",
    "plt.ylim(0, 20, 2)\n",
    "\n",
    "\n",
    "plt.show()"
   ]
  },
  {
   "cell_type": "code",
   "execution_count": null,
   "id": "4ff984ab",
   "metadata": {},
   "outputs": [],
   "source": [
    "plt.figure(figsize=(15, 4))\n",
    "plt.subplots_adjust(left=0.1,\n",
    "                    bottom=0.1,\n",
    "                    right=0.9,\n",
    "                    top=0.9,\n",
    "                    wspace=0.4,\n",
    "                    hspace=0.5)\n",
    "\n",
    "plt.subplot(1,3,1)\n",
    "plt.hist(delta_6_min_list, bins=500, density=True, alpha=0.75)\n",
    "plt.xlabel('Response Time (min)', fontsize=14)\n",
    "plt.ylabel('Count Frequency (unitless)', fontsize=14)\n",
    "plt.xticks(fontsize=13)\n",
    "plt.yticks(fontsize=13)\n",
    "plt.ylim(0, 0.225)\n",
    "plt.title('A: Histogram of the \\n Response Time (min)')\n",
    "\n",
    "plt.subplot(1,3,2)\n",
    "plt.hist(hour_list, density=True, bins=24, alpha=0.75)\n",
    "\n",
    "plt.ylabel('Count Frequency (unitless)', fontsize=14)\n",
    "plt.xlabel('Call Hour', fontsize=14)\n",
    "plt.xticks(np.arange(0, 24, step=2), fontsize=13) \n",
    "plt.yticks(fontsize=13)\n",
    "plt.title('B: Histogram of Hour that \\n the Call was Received \\n (System Load)')\n",
    "\n",
    "plt.subplot(1,3,3)\n",
    "plt.hist(distance_list, density=True, bins=50, alpha=0.75)\n",
    "plt.xlabel('Response Distance (km)', fontsize=14)\n",
    "plt.ylabel('Count Frequency (unitless)', fontsize=14)\n",
    "plt.yticks(fontsize=13)\n",
    "plt.xticks(np.arange(0, 20, step=2), fontsize=13) \n",
    "plt.ylim(0, 0.2)\n",
    "plt.title('C: Histogram of the Response \\n Distance (km)')\n",
    "\n",
    "plt.show()"
   ]
  },
  {
   "cell_type": "code",
   "execution_count": null,
   "id": "751a678f",
   "metadata": {
    "scrolled": true
   },
   "outputs": [],
   "source": [
    "col_sub = ['Call Priority','hour', 'delta_1_min', 'delta_2_min',\n",
    "           'delta_3_min', 'delta_4_min', 'delta_5_min', 'delta_6_min', \n",
    "           'delta_7_min', 'distance_km']\n",
    "col_sub2 = ['hour', 'delta_1_min', 'delta_2_min',\n",
    "           'delta_3_min', 'delta_4_min', 'delta_5_min', 'delta_6_min', \n",
    "           'delta_7_min', 'distance_km']\n",
    "col_sub3 = ['Call Priority', 'delta_1_min', 'delta_2_min',\n",
    "           'delta_3_min', 'delta_4_min', 'delta_5_min', 'delta_6_min', \n",
    "           'delta_7_min', 'distance_km']\n",
    "col_sub4 = ['hour', 'distance_km', 'delta_6_min']\n",
    "\n",
    "col_sub5 = ['Call Priority', 'distance_km', 'delta_6_min']\n",
    "col_sub6 = ['hour', 'Call Priority', 'distance_km', 'delta_6_min']\n",
    "\n",
    "\n",
    "col_sub7 = ['Call Priority', 'delta_6_min']\n",
    "col_sub8 = ['hour', 'delta_6_min']\n",
    "col_sub9 = ['Call Priority', 'hour', 'delta_6_min']"
   ]
  },
  {
   "cell_type": "code",
   "execution_count": null,
   "id": "db61c650",
   "metadata": {},
   "outputs": [],
   "source": [
    "final_df = new_df2[col_sub]\n",
    "final_df.describe()"
   ]
  },
  {
   "cell_type": "code",
   "execution_count": null,
   "id": "dfb987d8",
   "metadata": {},
   "outputs": [],
   "source": [
    "final_df2 = new_df2[col_sub2]"
   ]
  },
  {
   "cell_type": "code",
   "execution_count": null,
   "id": "ba922e81",
   "metadata": {},
   "outputs": [],
   "source": [
    "final_df2.head()"
   ]
  },
  {
   "cell_type": "code",
   "execution_count": null,
   "id": "18889ebf",
   "metadata": {},
   "outputs": [],
   "source": [
    "final_df3 = new_df2[col_sub3]\n",
    "final_df3.head()"
   ]
  },
  {
   "cell_type": "code",
   "execution_count": null,
   "id": "9967d4a9",
   "metadata": {},
   "outputs": [],
   "source": [
    "final_df4 = new_df2[col_sub4]\n",
    "final_df4.head()"
   ]
  },
  {
   "cell_type": "code",
   "execution_count": null,
   "id": "56f3e836",
   "metadata": {},
   "outputs": [],
   "source": [
    "final_df5 = new_df2[col_sub5]\n",
    "final_df5.head()"
   ]
  },
  {
   "cell_type": "code",
   "execution_count": null,
   "id": "58554270",
   "metadata": {},
   "outputs": [],
   "source": [
    "final_df6 = new_df2[col_sub6]\n",
    "final_df6.head()"
   ]
  },
  {
   "cell_type": "code",
   "execution_count": null,
   "id": "28548d05",
   "metadata": {},
   "outputs": [],
   "source": [
    "final_df7 = new_df2[col_sub7]\n",
    "final_df7.head()"
   ]
  },
  {
   "cell_type": "code",
   "execution_count": null,
   "id": "60c4ccfb",
   "metadata": {},
   "outputs": [],
   "source": [
    "final_df8 = new_df2[col_sub8]\n",
    "final_df8.head()"
   ]
  },
  {
   "cell_type": "code",
   "execution_count": null,
   "id": "779acce5",
   "metadata": {},
   "outputs": [],
   "source": [
    "final_df9 = new_df2[col_sub9]\n",
    "final_df9.head()"
   ]
  },
  {
   "cell_type": "code",
   "execution_count": null,
   "id": "5cd0e6a4",
   "metadata": {},
   "outputs": [],
   "source": [
    "one = OneHotEncoder()\n",
    "std = StandardScaler()\n",
    "\n",
    "#final_df\n",
    "col_transform_1 = make_column_transformer(\n",
    "    (one, ['Call Priority', 'hour']),\n",
    "    (std, ['distance_km', 'delta_1_min', 'delta_2_min', 'delta_3_min', \n",
    "            'delta_4_min', 'delta_5_min', 'delta_7_min', 'delta_6_min']),\n",
    "    remainder='passthrough')\n",
    "\n",
    "#final_df2\n",
    "col_transform_2 = make_column_transformer(\n",
    "    (one, ['hour']),\n",
    "    (std, ['distance_km', 'delta_1_min', 'delta_2_min', 'delta_3_min', \n",
    "            'delta_4_min', 'delta_5_min', 'delta_7_min', 'delta_6_min']),\n",
    "    remainder='passthrough')\n",
    "\n",
    "#final_df3\n",
    "col_transform_3 = make_column_transformer(\n",
    "    (one, ['Call Priority']),\n",
    "    (std, ['distance_km', 'delta_1_min', 'delta_2_min', 'delta_3_min', \n",
    "            'delta_4_min', 'delta_5_min', 'delta_7_min', 'delta_6_min']),\n",
    "    remainder='passthrough')\n",
    "\n",
    "\n",
    "##########################################\n",
    "\n",
    "#final_df6\n",
    "col_transform_5 = make_column_transformer(\n",
    "    (one, ['hour', 'Call Priority']),\n",
    "    (std, ['distance_km', 'delta_6_min']),\n",
    "    remainder='passthrough')\n",
    "\n",
    "#final_df5\n",
    "col_transform_4 = make_column_transformer(\n",
    "    (one, ['Call Priority']),\n",
    "    (std, ['distance_km', 'delta_6_min']),\n",
    "    remainder='passthrough')\n",
    "\n",
    "#final_df4\n",
    "col_transform_6 = make_column_transformer(\n",
    "    (one, ['hour']),\n",
    "    (std, ['distance_km', 'delta_6_min']),\n",
    "    remainder='passthrough')\n",
    "\n",
    "##########################################\n",
    "\n",
    "#final_df9\n",
    "col_transform_9 = make_column_transformer(\n",
    "    (one, ['hour', 'Call Priority']),\n",
    "    (std, ['delta_6_min']),\n",
    "    remainder='passthrough')\n",
    "\n",
    "#final_df7\n",
    "col_transform_7 = make_column_transformer(\n",
    "    (one, ['Call Priority']),\n",
    "    (std, ['delta_6_min']),\n",
    "    remainder='passthrough')\n",
    "\n",
    "#final_df8\n",
    "col_transform_8 = make_column_transformer(\n",
    "    (one, ['hour']),\n",
    "    (std, ['delta_6_min']),\n",
    "    remainder='passthrough')"
   ]
  },
  {
   "cell_type": "code",
   "execution_count": null,
   "id": "f1beb445",
   "metadata": {},
   "outputs": [],
   "source": [
    "data_dict = [{'col_transform': [{'data': final_df, 'transformer': col_transform_1, 'dataset': 'dataset_1'}]},\n",
    "             {'col_transform': [{'data': final_df2, 'transformer': col_transform_2, 'dataset': 'dataset_2'}]},\n",
    "             {'col_transform': [{'data': final_df3, 'transformer': col_transform_3, 'dataset': 'dataset_3'}]},\n",
    "             {'col_transform': [{'data': final_df5, 'transformer': col_transform_4, 'dataset': 'dataset_4'}]},\n",
    "             {'col_transform': [{'data': final_df6, 'transformer': col_transform_5, 'dataset': 'dataset_5'}]},\n",
    "             {'col_transform': [{'data': final_df4, 'transformer': col_transform_6, 'dataset': 'dataset_6'}]},\n",
    "             {'col_transform': [{'data': final_df7, 'transformer': col_transform_7, 'dataset': 'dataset_7'}]}, \n",
    "             {'col_transform': [{'data': final_df8, 'transformer': col_transform_8, 'dataset': 'dataset_8'}]},\n",
    "             {'col_transform': [{'data': final_df9, 'transformer': col_transform_9, 'dataset': 'dataset_9'}]}]"
   ]
  },
  {
   "cell_type": "code",
   "execution_count": null,
   "id": "b6668f37",
   "metadata": {},
   "outputs": [],
   "source": [
    "dataset = []\n",
    "except_list = []\n",
    "for idx, each_trans in enumerate(data_dict):\n",
    "    trans = each_trans['col_transform'][0]['transformer']\n",
    "    data = each_trans['col_transform'][0]['data']\n",
    "    name_str = each_trans['col_transform'][0]['dataset']\n",
    "    try:\n",
    "        data_transformed = trans.fit_transform(data)\n",
    "        dense_array = data_transformed.toarray()\n",
    "        \n",
    "        feat_pos = len(dense_array[0]) -1\n",
    "        X = dense_array[:,:feat_pos]\n",
    "        y = dense_array[:, -1:]\n",
    "\n",
    "        elm_dict = {\n",
    "            'dataset': name_str,\n",
    "            'data': [{'X': X, 'y': y}],\n",
    "            'num_features': len(X)\n",
    "        }\n",
    "        dataset.append(elm_dict)\n",
    "        \n",
    "    except:\n",
    "        except_list.append(idx)\n",
    "        data_transformed = trans.fit_transform(data)\n",
    "        X = data_transformed[:, 1:]\n",
    "        y = data_transformed[:, :1]\n",
    "\n",
    "        elm_dict = {\n",
    "            'dataset': name_str,\n",
    "            'data': [{'X': X, 'y': y}],\n",
    "            'num_features': len(X)\n",
    "        }\n",
    "        dataset.append(elm_dict)"
   ]
  },
  {
   "cell_type": "code",
   "execution_count": null,
   "id": "d4907107",
   "metadata": {},
   "outputs": [],
   "source": [
    "def train_func(dataset=None, model=None, test_size=None, random_state=None):\n",
    "    \n",
    "    df_list = []\n",
    "    \n",
    "    for each in dataset:\n",
    "        \n",
    "        X_train, X_test, y_train, y_test = train_test_split(each['data'][0]['X'], \n",
    "                                                            each['data'][0]['y'], \n",
    "                                                            test_size=test_size, \n",
    "                                                            random_state=random_state)\n",
    "        reg = model.fit(X_train, y_train)\n",
    "        y_pred_time = reg.predict(X_test)\n",
    "\n",
    "        r2 = r2_score(y_test, y_pred_time)\n",
    "        mse = mean_squared_error(y_test, y_pred_time)\n",
    "        mae = mean_absolute_error(y_test, y_pred_time)\n",
    "        rmse = np.sqrt(mse)\n",
    "        rmsle = np.log(rmse)\n",
    "\n",
    "        print('')\n",
    "        print('-----------------')\n",
    "        print('Dataset: {}, Model: {}, R2_Score: {:.5f}, MSE_Score: {:.5f}, MAE_Score: {:.5f}, RMSE_Score: {:.5f}'.format(each['dataset'], \n",
    "                                                            model, r2, mse, mae, rmse))\n",
    "   \n",
    "        cv = KFold(n_splits=10, \n",
    "                   shuffle=True, \n",
    "                   random_state=random_state)\n",
    "    \n",
    "        cv_scores = cross_val_score(estimator=model, \n",
    "                                 X=each['data'][0]['X'], \n",
    "                                 y=each['data'][0]['y'], \n",
    "                                 scoring=None, \n",
    "                                 cv=cv)\n",
    "        print('')\n",
    "        print('******* 10-Fold Cross Validation Scores *******')\n",
    "        print('Dataset: {}, Model: {}, Mean_Score (Default): {:.5f}, Min_Score: {:.5f} Max_Score: {:.5f}, List of CV Scores: {}'.format(each['dataset'], \n",
    "                                                                                                     model,\n",
    "                                                                                                     np.mean(cv_scores), \n",
    "                                                                                                     cv_scores.min(), \n",
    "                                                                                                     cv_scores.max(), \n",
    "                                                                                                     cv_scores))\n",
    "        d = each['dataset']\n",
    "        m = model\n",
    "        s = test_size\n",
    "        df = pd.DataFrame({'model': [m for each in range(9)],\n",
    "                           'dataset': [d for each in range(9)],\n",
    "                           'testsize': [s for each in range(9)],\n",
    "                           'metric_set': ['Non-CV', 'Non-CV', 'Non-CV', 'Non-CV', 'Non-CV', '10 Fold-CV', '10 Fold-CV', '10 Fold-CV', '10 Fold-CV'],\n",
    "                           'metric': ['R2_Score', 'MSE_Score', 'MAE_Score', 'RMSE_Score', 'RMSLE_Score', 'Mean_Score', 'Min_Score', 'Max_Score', 'cv_scores'], \n",
    "                           'value': [r2, mse, mae, rmse, rmsle, np.mean(cv_scores), cv_scores.min(), cv_scores.max(), cv_scores]})   \n",
    "        \n",
    "        df_list.append(df)\n",
    "        \n",
    "    return pd.concat(df_list)\n",
    "        "
   ]
  },
  {
   "cell_type": "code",
   "execution_count": null,
   "id": "6100947a",
   "metadata": {},
   "outputs": [],
   "source": [
    "model = LinearRegression()\n",
    "run1 = train_func(dataset=dataset, model=model, test_size=0.3, random_state=random_state)"
   ]
  },
  {
   "cell_type": "code",
   "execution_count": null,
   "id": "5e1038b3",
   "metadata": {},
   "outputs": [],
   "source": [
    "model = LinearRegression()\n",
    "run2 = train_func(dataset=dataset, model=model, test_size=0.5, random_state=random_state)"
   ]
  },
  {
   "cell_type": "code",
   "execution_count": null,
   "id": "98e36065",
   "metadata": {},
   "outputs": [],
   "source": [
    "model = LinearRegression()\n",
    "run3 = train_func(dataset=dataset, model=model, test_size=0.7, random_state=random_state)"
   ]
  },
  {
   "cell_type": "code",
   "execution_count": null,
   "id": "5a4e3acd",
   "metadata": {},
   "outputs": [],
   "source": [
    "model = LinearRegression()\n",
    "run4 = train_func(dataset=dataset, model=model, test_size=0.8, random_state=random_state)"
   ]
  },
  {
   "cell_type": "code",
   "execution_count": null,
   "id": "b29f91ce",
   "metadata": {},
   "outputs": [],
   "source": [
    "model = LinearRegression()\n",
    "run5 = train_func(dataset=dataset, model=model, test_size=0.9, random_state=random_state)"
   ]
  },
  {
   "cell_type": "code",
   "execution_count": null,
   "id": "7cfd57aa",
   "metadata": {},
   "outputs": [],
   "source": [
    "model = linear_model.Lasso(alpha=0.025, random_state=random_state)\n",
    "run6 = train_func(dataset=dataset, model=model, test_size=0.3, random_state=random_state)"
   ]
  },
  {
   "cell_type": "code",
   "execution_count": null,
   "id": "5c8523b3",
   "metadata": {},
   "outputs": [],
   "source": [
    "model = linear_model.Lasso(alpha=0.050, random_state=random_state)\n",
    "run13 = train_func(dataset=dataset, model=model, test_size=0.3, random_state=random_state)"
   ]
  },
  {
   "cell_type": "code",
   "execution_count": null,
   "id": "5210f121",
   "metadata": {},
   "outputs": [],
   "source": [
    "model = linear_model.Lasso(alpha=0.075, random_state=random_state)\n",
    "run14 = train_func(dataset=dataset, model=model, test_size=0.3, random_state=random_state)"
   ]
  },
  {
   "cell_type": "code",
   "execution_count": null,
   "id": "db993609",
   "metadata": {},
   "outputs": [],
   "source": [
    "model = linear_model.Lasso(alpha=0.1, random_state=random_state)\n",
    "run15 = train_func(dataset=dataset, model=model, test_size=0.3, random_state=random_state)"
   ]
  },
  {
   "cell_type": "code",
   "execution_count": null,
   "id": "9093762a",
   "metadata": {},
   "outputs": [],
   "source": [
    "model = linear_model.Lasso(alpha=0.5, random_state=random_state)\n",
    "run16 = train_func(dataset=dataset, model=model, test_size=0.3, random_state=random_state)"
   ]
  },
  {
   "cell_type": "code",
   "execution_count": null,
   "id": "c919800d",
   "metadata": {},
   "outputs": [],
   "source": [
    "model = linear_model.Lasso(alpha=0.75, random_state=random_state)\n",
    "run17 = train_func(dataset=dataset, model=model, test_size=0.3, random_state=random_state)"
   ]
  },
  {
   "cell_type": "code",
   "execution_count": null,
   "id": "d59eecd5",
   "metadata": {},
   "outputs": [],
   "source": [
    "model = linear_model.Lasso(alpha=0.35, random_state=random_state)\n",
    "run18 = train_func(dataset=dataset, model=model, test_size=0.3, random_state=random_state)"
   ]
  },
  {
   "cell_type": "code",
   "execution_count": null,
   "id": "03eeb32d",
   "metadata": {},
   "outputs": [],
   "source": [
    "model = linear_model.Lasso(alpha=0, random_state=random_state)\n",
    "run7 = train_func(dataset=dataset, model=model, test_size=0.3, random_state=random_state)"
   ]
  },
  {
   "cell_type": "code",
   "execution_count": null,
   "id": "c8426ae5",
   "metadata": {},
   "outputs": [],
   "source": [
    "model = linear_model.Lasso(alpha=1, random_state=random_state)\n",
    "run8 = train_func(dataset=dataset, model=model, test_size=0.3, random_state=random_state)"
   ]
  },
  {
   "cell_type": "code",
   "execution_count": null,
   "id": "31df76c0",
   "metadata": {},
   "outputs": [],
   "source": [
    "model = Ridge(alpha=8.0, random_state=random_state)\n",
    "run9 = train_func(dataset=dataset, model=model, test_size=0.3, random_state=random_state)"
   ]
  },
  {
   "cell_type": "code",
   "execution_count": null,
   "id": "2cf51a02",
   "metadata": {},
   "outputs": [],
   "source": [
    "model = Ridge(alpha=1, random_state=random_state)\n",
    "run10 = train_func(dataset=dataset, model=model, test_size=0.3, random_state=random_state)"
   ]
  },
  {
   "cell_type": "code",
   "execution_count": null,
   "id": "375e23c2",
   "metadata": {},
   "outputs": [],
   "source": [
    "model = Ridge(alpha=5, random_state=random_state)\n",
    "run11 = train_func(dataset=dataset, model=model, test_size=0.3, random_state=random_state)"
   ]
  },
  {
   "cell_type": "code",
   "execution_count": null,
   "id": "e643f014",
   "metadata": {},
   "outputs": [],
   "source": [
    "model = ElasticNet(random_state=random_state)\n",
    "run12 = train_func(dataset=dataset, model=model, test_size=0.3, random_state=random_state)"
   ]
  },
  {
   "cell_type": "code",
   "execution_count": null,
   "id": "1f97e5c5",
   "metadata": {},
   "outputs": [],
   "source": [
    "df_all_runs = pd.concat([run1, run2, run3, run4, run5, run6, \n",
    "                         run7, run8, run9, run10, run11, run12, \n",
    "                         run13, run14, run15, run16, run17, run18])"
   ]
  },
  {
   "cell_type": "code",
   "execution_count": null,
   "id": "5235516e",
   "metadata": {},
   "outputs": [],
   "source": [
    "df_all_runs.shape"
   ]
  },
  {
   "cell_type": "code",
   "execution_count": null,
   "id": "a834d6be",
   "metadata": {},
   "outputs": [],
   "source": [
    "df_all_runs.to_csv('modeling-output.csv', index=False)"
   ]
  }
 ],
 "metadata": {
  "kernelspec": {
   "display_name": "Python 3",
   "language": "python",
   "name": "python3"
  },
  "language_info": {
   "codemirror_mode": {
    "name": "ipython",
    "version": 3
   },
   "file_extension": ".py",
   "mimetype": "text/x-python",
   "name": "python",
   "nbconvert_exporter": "python",
   "pygments_lexer": "ipython3",
   "version": "3.8.8"
  }
 },
 "nbformat": 4,
 "nbformat_minor": 5
}
